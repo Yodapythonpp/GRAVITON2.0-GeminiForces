{
  "nbformat": 4,
  "nbformat_minor": 0,
  "metadata": {
    "colab": {
      "provenance": [],
      "authorship_tag": "ABX9TyPCSdLFunUzPUTKGnoiKzs8",
      "include_colab_link": true
    },
    "kernelspec": {
      "name": "python3",
      "display_name": "Python 3"
    },
    "language_info": {
      "name": "python"
    }
  },
  "cells": [
    {
      "cell_type": "markdown",
      "metadata": {
        "id": "view-in-github",
        "colab_type": "text"
      },
      "source": [
        "<a href=\"https://colab.research.google.com/github/Yodapythonpp/GRAVITON2.0-GeminiForces/blob/main/FruitCount_.ipynb\" target=\"_parent\"><img src=\"https://colab.research.google.com/assets/colab-badge.svg\" alt=\"Open In Colab\"/></a>"
      ]
    },
    {
      "cell_type": "code",
      "execution_count": null,
      "metadata": {
        "id": "K2z4mUkySNz2",
        "colab": {
          "base_uri": "https://localhost:8080/"
        },
        "outputId": "eb8b8143-2547-465d-89f8-0837886ea1bc"
      },
      "outputs": [
        {
          "output_type": "stream",
          "name": "stdout",
          "text": [
            "Requirement already satisfied: qiskit==0.43.0 in /usr/local/lib/python3.10/dist-packages (0.43.0)\n",
            "Requirement already satisfied: qiskit-terra==0.24.0 in /usr/local/lib/python3.10/dist-packages (from qiskit==0.43.0) (0.24.0)\n",
            "Requirement already satisfied: qiskit-aer==0.12.0 in /usr/local/lib/python3.10/dist-packages (from qiskit==0.43.0) (0.12.0)\n",
            "Requirement already satisfied: qiskit-ibmq-provider==0.20.2 in /usr/local/lib/python3.10/dist-packages (from qiskit==0.43.0) (0.20.2)\n",
            "Requirement already satisfied: numpy>=1.16.3 in /usr/local/lib/python3.10/dist-packages (from qiskit-aer==0.12.0->qiskit==0.43.0) (1.23.5)\n",
            "Requirement already satisfied: scipy>=1.0 in /usr/local/lib/python3.10/dist-packages (from qiskit-aer==0.12.0->qiskit==0.43.0) (1.11.4)\n",
            "Requirement already satisfied: requests>=2.19 in /usr/local/lib/python3.10/dist-packages (from qiskit-ibmq-provider==0.20.2->qiskit==0.43.0) (2.31.0)\n",
            "Requirement already satisfied: requests-ntlm<=1.1.0 in /usr/local/lib/python3.10/dist-packages (from qiskit-ibmq-provider==0.20.2->qiskit==0.43.0) (1.1.0)\n",
            "Requirement already satisfied: urllib3>=1.21.1 in /usr/local/lib/python3.10/dist-packages (from qiskit-ibmq-provider==0.20.2->qiskit==0.43.0) (2.0.7)\n",
            "Requirement already satisfied: python-dateutil>=2.8.0 in /usr/local/lib/python3.10/dist-packages (from qiskit-ibmq-provider==0.20.2->qiskit==0.43.0) (2.8.2)\n",
            "Requirement already satisfied: websocket-client>=1.5.1 in /usr/local/lib/python3.10/dist-packages (from qiskit-ibmq-provider==0.20.2->qiskit==0.43.0) (1.7.0)\n",
            "Requirement already satisfied: websockets>=10.0 in /usr/local/lib/python3.10/dist-packages (from qiskit-ibmq-provider==0.20.2->qiskit==0.43.0) (12.0)\n",
            "Requirement already satisfied: rustworkx>=0.12.0 in /usr/local/lib/python3.10/dist-packages (from qiskit-terra==0.24.0->qiskit==0.43.0) (0.14.2)\n",
            "Requirement already satisfied: ply>=3.10 in /usr/local/lib/python3.10/dist-packages (from qiskit-terra==0.24.0->qiskit==0.43.0) (3.11)\n",
            "Requirement already satisfied: psutil>=5 in /usr/local/lib/python3.10/dist-packages (from qiskit-terra==0.24.0->qiskit==0.43.0) (5.9.5)\n",
            "Requirement already satisfied: sympy>=1.3 in /usr/local/lib/python3.10/dist-packages (from qiskit-terra==0.24.0->qiskit==0.43.0) (1.12)\n",
            "Requirement already satisfied: dill>=0.3 in /usr/local/lib/python3.10/dist-packages (from qiskit-terra==0.24.0->qiskit==0.43.0) (0.3.8)\n",
            "Requirement already satisfied: stevedore>=3.0.0 in /usr/local/lib/python3.10/dist-packages (from qiskit-terra==0.24.0->qiskit==0.43.0) (5.2.0)\n",
            "Requirement already satisfied: symengine<0.10,>=0.9 in /usr/local/lib/python3.10/dist-packages (from qiskit-terra==0.24.0->qiskit==0.43.0) (0.9.2)\n",
            "Requirement already satisfied: six>=1.5 in /usr/local/lib/python3.10/dist-packages (from python-dateutil>=2.8.0->qiskit-ibmq-provider==0.20.2->qiskit==0.43.0) (1.16.0)\n",
            "Requirement already satisfied: charset-normalizer<4,>=2 in /usr/local/lib/python3.10/dist-packages (from requests>=2.19->qiskit-ibmq-provider==0.20.2->qiskit==0.43.0) (3.3.2)\n",
            "Requirement already satisfied: idna<4,>=2.5 in /usr/local/lib/python3.10/dist-packages (from requests>=2.19->qiskit-ibmq-provider==0.20.2->qiskit==0.43.0) (3.6)\n",
            "Requirement already satisfied: certifi>=2017.4.17 in /usr/local/lib/python3.10/dist-packages (from requests>=2.19->qiskit-ibmq-provider==0.20.2->qiskit==0.43.0) (2024.2.2)\n",
            "Requirement already satisfied: ntlm-auth>=1.0.2 in /usr/local/lib/python3.10/dist-packages (from requests-ntlm<=1.1.0->qiskit-ibmq-provider==0.20.2->qiskit==0.43.0) (1.5.0)\n",
            "Requirement already satisfied: cryptography>=1.3 in /usr/local/lib/python3.10/dist-packages (from requests-ntlm<=1.1.0->qiskit-ibmq-provider==0.20.2->qiskit==0.43.0) (42.0.5)\n",
            "Requirement already satisfied: pbr!=2.1.0,>=2.0.0 in /usr/local/lib/python3.10/dist-packages (from stevedore>=3.0.0->qiskit-terra==0.24.0->qiskit==0.43.0) (6.0.0)\n",
            "Requirement already satisfied: mpmath>=0.19 in /usr/local/lib/python3.10/dist-packages (from sympy>=1.3->qiskit-terra==0.24.0->qiskit==0.43.0) (1.3.0)\n",
            "Requirement already satisfied: cffi>=1.12 in /usr/local/lib/python3.10/dist-packages (from cryptography>=1.3->requests-ntlm<=1.1.0->qiskit-ibmq-provider==0.20.2->qiskit==0.43.0) (1.16.0)\n",
            "Requirement already satisfied: pycparser in /usr/local/lib/python3.10/dist-packages (from cffi>=1.12->cryptography>=1.3->requests-ntlm<=1.1.0->qiskit-ibmq-provider==0.20.2->qiskit==0.43.0) (2.22)\n",
            "Requirement already satisfied: qiskit-aer==0.12.0 in /usr/local/lib/python3.10/dist-packages (0.12.0)\n",
            "Requirement already satisfied: qiskit-terra>=0.21.0 in /usr/local/lib/python3.10/dist-packages (from qiskit-aer==0.12.0) (0.24.0)\n",
            "Requirement already satisfied: numpy>=1.16.3 in /usr/local/lib/python3.10/dist-packages (from qiskit-aer==0.12.0) (1.23.5)\n",
            "Requirement already satisfied: scipy>=1.0 in /usr/local/lib/python3.10/dist-packages (from qiskit-aer==0.12.0) (1.11.4)\n",
            "Requirement already satisfied: rustworkx>=0.12.0 in /usr/local/lib/python3.10/dist-packages (from qiskit-terra>=0.21.0->qiskit-aer==0.12.0) (0.14.2)\n",
            "Requirement already satisfied: ply>=3.10 in /usr/local/lib/python3.10/dist-packages (from qiskit-terra>=0.21.0->qiskit-aer==0.12.0) (3.11)\n",
            "Requirement already satisfied: psutil>=5 in /usr/local/lib/python3.10/dist-packages (from qiskit-terra>=0.21.0->qiskit-aer==0.12.0) (5.9.5)\n",
            "Requirement already satisfied: sympy>=1.3 in /usr/local/lib/python3.10/dist-packages (from qiskit-terra>=0.21.0->qiskit-aer==0.12.0) (1.12)\n",
            "Requirement already satisfied: dill>=0.3 in /usr/local/lib/python3.10/dist-packages (from qiskit-terra>=0.21.0->qiskit-aer==0.12.0) (0.3.8)\n",
            "Requirement already satisfied: python-dateutil>=2.8.0 in /usr/local/lib/python3.10/dist-packages (from qiskit-terra>=0.21.0->qiskit-aer==0.12.0) (2.8.2)\n",
            "Requirement already satisfied: stevedore>=3.0.0 in /usr/local/lib/python3.10/dist-packages (from qiskit-terra>=0.21.0->qiskit-aer==0.12.0) (5.2.0)\n",
            "Requirement already satisfied: symengine<0.10,>=0.9 in /usr/local/lib/python3.10/dist-packages (from qiskit-terra>=0.21.0->qiskit-aer==0.12.0) (0.9.2)\n",
            "Requirement already satisfied: six>=1.5 in /usr/local/lib/python3.10/dist-packages (from python-dateutil>=2.8.0->qiskit-terra>=0.21.0->qiskit-aer==0.12.0) (1.16.0)\n",
            "Requirement already satisfied: pbr!=2.1.0,>=2.0.0 in /usr/local/lib/python3.10/dist-packages (from stevedore>=3.0.0->qiskit-terra>=0.21.0->qiskit-aer==0.12.0) (6.0.0)\n",
            "Requirement already satisfied: mpmath>=0.19 in /usr/local/lib/python3.10/dist-packages (from sympy>=1.3->qiskit-terra>=0.21.0->qiskit-aer==0.12.0) (1.3.0)\n",
            "Requirement already satisfied: networkx in /usr/local/lib/python3.10/dist-packages (3.2.1)\n",
            "Requirement already satisfied: matplotlib in /usr/local/lib/python3.10/dist-packages (3.7.1)\n",
            "Requirement already satisfied: contourpy>=1.0.1 in /usr/local/lib/python3.10/dist-packages (from matplotlib) (1.2.0)\n",
            "Requirement already satisfied: cycler>=0.10 in /usr/local/lib/python3.10/dist-packages (from matplotlib) (0.12.1)\n",
            "Requirement already satisfied: fonttools>=4.22.0 in /usr/local/lib/python3.10/dist-packages (from matplotlib) (4.50.0)\n",
            "Requirement already satisfied: kiwisolver>=1.0.1 in /usr/local/lib/python3.10/dist-packages (from matplotlib) (1.4.5)\n",
            "Requirement already satisfied: numpy>=1.20 in /usr/local/lib/python3.10/dist-packages (from matplotlib) (1.23.5)\n",
            "Requirement already satisfied: packaging>=20.0 in /usr/local/lib/python3.10/dist-packages (from matplotlib) (24.0)\n",
            "Requirement already satisfied: pillow>=6.2.0 in /usr/local/lib/python3.10/dist-packages (from matplotlib) (9.4.0)\n",
            "Requirement already satisfied: pyparsing>=2.3.1 in /usr/local/lib/python3.10/dist-packages (from matplotlib) (3.1.2)\n",
            "Requirement already satisfied: python-dateutil>=2.7 in /usr/local/lib/python3.10/dist-packages (from matplotlib) (2.8.2)\n",
            "Requirement already satisfied: six>=1.5 in /usr/local/lib/python3.10/dist-packages (from python-dateutil>=2.7->matplotlib) (1.16.0)\n"
          ]
        }
      ],
      "source": [
        "!pip install qiskit==0.43.0\n",
        "!pip install qiskit-aer==0.12.0\n",
        "!pip install networkx\n",
        "!pip install matplotlib"
      ]
    },
    {
      "cell_type": "code",
      "source": [
        "import numpy as np\n",
        "import networkx as nx\n",
        "import random\n",
        "import matplotlib.pyplot as plt\n",
        "from collections import defaultdict\n",
        "from operator import itemgetter\n",
        "from scipy.optimize import minimize\n",
        "from qiskit import QuantumCircuit, QuantumRegister, ClassicalRegister, execute, Aer"
      ],
      "metadata": {
        "id": "OxjnCgWOVGUY"
      },
      "execution_count": null,
      "outputs": []
    },
    {
      "cell_type": "code",
      "source": [
        "import random\n",
        "\n",
        "# Initialize an empty list to hold the coordinate pairs\n",
        "set_of_coordinates = []\n",
        "\n",
        "# Loop 1000 times to generate 1000 random coordinate pairs\n",
        "for i in range(1000):\n",
        "    # Generate a random x-coordinate (between 0 and 50)\n",
        "    x = random.randint(0, 50)\n",
        "    # Generate a random y-coordinate (between 0 and 50)\n",
        "    y = random.randint(0, 50)\n",
        "    # Append the coordinate pair (x, y) to the list\n",
        "    set_of_coordinates.append((x, y))\n",
        "\n",
        "# Print the list of coordinate pairs\n",
        "print(set_of_coordinates)\n"
      ],
      "metadata": {
        "id": "TENElfj7UiBI",
        "outputId": "767f8f9d-abe7-4f75-877e-6d3530ee5b3b",
        "colab": {
          "base_uri": "https://localhost:8080/"
        }
      },
      "execution_count": 1,
      "outputs": [
        {
          "output_type": "stream",
          "name": "stdout",
          "text": [
            "[(21, 39), (7, 7), (23, 27), (23, 50), (28, 48), (31, 14), (0, 35), (1, 30), (0, 29), (33, 5), (50, 7), (23, 15), (40, 2), (8, 5), (2, 37), (22, 34), (13, 5), (44, 15), (13, 5), (37, 19), (26, 49), (13, 13), (40, 16), (36, 34), (50, 14), (11, 17), (15, 49), (46, 47), (43, 35), (31, 40), (39, 24), (20, 37), (15, 40), (17, 14), (42, 39), (1, 41), (16, 14), (50, 26), (10, 39), (45, 14), (44, 47), (21, 26), (10, 45), (19, 22), (12, 23), (38, 46), (5, 9), (35, 49), (39, 15), (1, 6), (45, 38), (14, 25), (48, 4), (12, 20), (34, 2), (23, 5), (22, 29), (41, 36), (0, 18), (28, 4), (6, 21), (20, 46), (2, 40), (50, 47), (19, 26), (13, 46), (19, 14), (15, 43), (28, 0), (32, 24), (13, 50), (47, 24), (48, 20), (38, 28), (49, 17), (5, 24), (41, 17), (18, 30), (16, 40), (44, 14), (21, 21), (44, 49), (25, 35), (8, 19), (1, 21), (15, 5), (46, 37), (3, 41), (12, 49), (27, 16), (41, 17), (39, 38), (14, 7), (16, 14), (41, 15), (2, 27), (6, 22), (48, 14), (31, 33), (11, 27), (4, 15), (17, 21), (39, 33), (3, 14), (41, 4), (42, 23), (20, 27), (45, 49), (10, 33), (39, 34), (7, 24), (15, 15), (35, 23), (2, 41), (42, 17), (43, 40), (18, 27), (25, 11), (39, 9), (9, 17), (14, 22), (18, 15), (45, 4), (21, 23), (22, 18), (18, 19), (23, 47), (49, 32), (11, 44), (33, 18), (48, 19), (6, 16), (42, 48), (9, 11), (13, 24), (16, 27), (42, 7), (50, 45), (19, 18), (49, 8), (32, 11), (30, 17), (9, 27), (37, 22), (27, 27), (26, 32), (10, 8), (17, 44), (14, 10), (35, 44), (42, 25), (16, 18), (35, 9), (41, 33), (8, 47), (43, 44), (18, 16), (0, 46), (22, 20), (17, 10), (3, 9), (4, 28), (24, 14), (25, 22), (36, 19), (39, 30), (44, 35), (0, 42), (9, 41), (37, 46), (31, 27), (20, 11), (5, 28), (12, 16), (31, 31), (46, 11), (18, 37), (27, 44), (2, 49), (33, 32), (20, 35), (8, 6), (33, 15), (25, 38), (8, 4), (42, 39), (37, 16), (39, 47), (38, 25), (11, 48), (44, 7), (12, 41), (9, 47), (14, 45), (46, 44), (1, 15), (35, 21), (32, 17), (34, 2), (14, 16), (20, 39), (12, 23), (28, 10), (27, 23), (30, 9), (16, 45), (3, 31), (12, 10), (44, 8), (48, 44), (39, 10), (22, 18), (41, 19), (45, 50), (7, 18), (44, 37), (11, 35), (7, 8), (24, 42), (4, 26), (19, 37), (12, 2), (34, 15), (16, 42), (33, 8), (40, 33), (39, 1), (20, 16), (28, 23), (43, 24), (16, 50), (33, 15), (29, 16), (39, 9), (35, 31), (0, 2), (48, 25), (18, 8), (28, 22), (36, 3), (20, 12), (29, 44), (47, 12), (48, 6), (13, 14), (12, 0), (21, 13), (17, 34), (45, 10), (22, 2), (26, 50), (18, 21), (11, 35), (50, 26), (20, 26), (18, 0), (13, 9), (7, 49), (37, 32), (41, 17), (6, 2), (7, 25), (41, 44), (6, 19), (8, 38), (1, 7), (50, 16), (18, 14), (10, 29), (1, 47), (23, 17), (7, 49), (21, 19), (42, 20), (34, 39), (14, 50), (35, 44), (43, 28), (42, 35), (29, 40), (3, 28), (49, 20), (4, 37), (32, 48), (0, 36), (5, 50), (15, 32), (6, 17), (49, 16), (49, 35), (1, 14), (14, 36), (14, 39), (6, 20), (23, 20), (24, 3), (36, 10), (48, 3), (34, 38), (32, 32), (22, 12), (34, 19), (42, 26), (26, 10), (24, 5), (41, 35), (21, 46), (38, 33), (19, 7), (30, 44), (27, 40), (16, 33), (26, 47), (30, 2), (17, 24), (4, 17), (25, 19), (33, 38), (11, 21), (5, 49), (22, 18), (42, 42), (39, 5), (15, 16), (26, 2), (49, 20), (12, 43), (6, 45), (8, 47), (23, 39), (50, 20), (5, 4), (20, 35), (47, 25), (24, 10), (49, 14), (19, 8), (33, 36), (43, 22), (39, 39), (15, 20), (25, 44), (41, 36), (32, 19), (34, 14), (44, 46), (18, 47), (45, 22), (1, 7), (9, 39), (39, 23), (42, 7), (9, 36), (45, 26), (1, 9), (43, 23), (41, 28), (7, 46), (7, 12), (30, 16), (40, 26), (25, 37), (15, 47), (6, 47), (43, 11), (34, 35), (16, 5), (43, 46), (19, 12), (9, 31), (12, 9), (31, 6), (45, 30), (43, 35), (49, 26), (8, 29), (18, 29), (7, 41), (47, 21), (8, 40), (48, 16), (43, 30), (45, 14), (27, 28), (43, 32), (32, 32), (42, 27), (33, 42), (7, 39), (38, 19), (22, 13), (10, 26), (48, 21), (16, 43), (7, 20), (24, 31), (44, 19), (48, 32), (41, 50), (4, 41), (9, 48), (2, 13), (50, 21), (25, 14), (28, 43), (18, 33), (42, 27), (25, 9), (11, 47), (41, 22), (29, 17), (26, 34), (19, 40), (27, 18), (13, 42), (39, 13), (34, 43), (39, 42), (11, 24), (26, 49), (33, 46), (47, 18), (26, 30), (21, 39), (33, 18), (48, 21), (5, 20), (2, 38), (12, 17), (47, 9), (22, 3), (17, 34), (14, 39), (19, 4), (23, 17), (11, 47), (50, 25), (17, 12), (25, 32), (14, 38), (2, 41), (45, 2), (18, 49), (23, 41), (40, 13), (32, 13), (0, 48), (32, 17), (22, 49), (37, 37), (14, 26), (35, 20), (16, 7), (46, 14), (3, 0), (1, 21), (25, 35), (25, 1), (46, 10), (29, 37), (19, 8), (42, 43), (45, 28), (32, 6), (18, 38), (7, 11), (26, 34), (8, 17), (42, 11), (50, 11), (46, 36), (16, 26), (44, 39), (20, 9), (38, 40), (26, 50), (20, 16), (10, 20), (31, 6), (30, 4), (36, 23), (42, 25), (14, 48), (49, 35), (43, 33), (1, 6), (2, 14), (37, 31), (34, 4), (22, 46), (0, 43), (9, 39), (43, 2), (13, 18), (36, 22), (26, 48), (47, 35), (33, 48), (38, 25), (27, 49), (16, 39), (14, 39), (43, 40), (26, 22), (3, 40), (31, 11), (46, 11), (50, 6), (38, 29), (7, 13), (30, 47), (22, 2), (21, 11), (26, 24), (28, 47), (18, 23), (25, 39), (24, 15), (13, 50), (21, 35), (14, 6), (30, 48), (37, 44), (32, 34), (48, 14), (7, 27), (18, 41), (17, 39), (45, 33), (25, 30), (48, 8), (41, 7), (10, 14), (10, 40), (12, 5), (24, 0), (36, 34), (36, 1), (24, 13), (2, 45), (40, 17), (29, 8), (27, 6), (4, 26), (7, 12), (35, 22), (42, 18), (20, 42), (39, 46), (17, 44), (49, 15), (27, 0), (31, 31), (44, 47), (39, 3), (24, 39), (47, 12), (27, 4), (21, 23), (8, 3), (15, 10), (8, 6), (28, 30), (20, 1), (20, 36), (33, 26), (34, 6), (38, 22), (13, 28), (22, 29), (48, 2), (46, 30), (4, 47), (3, 38), (42, 11), (22, 21), (44, 46), (47, 17), (2, 8), (41, 20), (15, 38), (1, 31), (48, 31), (50, 34), (31, 21), (4, 34), (49, 33), (11, 49), (26, 26), (47, 38), (21, 39), (38, 35), (15, 22), (44, 46), (21, 10), (17, 15), (29, 3), (5, 6), (2, 12), (37, 12), (31, 35), (32, 48), (40, 38), (37, 13), (15, 16), (36, 32), (37, 30), (2, 35), (36, 27), (5, 27), (37, 6), (47, 3), (13, 1), (33, 9), (32, 48), (2, 32), (21, 31), (29, 26), (49, 18), (3, 32), (0, 24), (24, 37), (35, 48), (29, 11), (48, 23), (49, 3), (17, 17), (41, 45), (10, 12), (5, 48), (42, 0), (41, 50), (33, 17), (36, 41), (29, 13), (49, 25), (29, 33), (34, 10), (15, 27), (28, 36), (26, 35), (27, 48), (39, 23), (15, 32), (1, 2), (38, 38), (15, 43), (4, 48), (24, 44), (27, 22), (40, 26), (48, 6), (47, 20), (9, 4), (24, 15), (7, 29), (50, 34), (30, 40), (39, 31), (21, 17), (36, 25), (50, 50), (11, 9), (49, 18), (23, 17), (27, 2), (24, 1), (17, 30), (26, 6), (48, 43), (27, 35), (13, 7), (0, 41), (31, 11), (29, 19), (35, 29), (14, 26), (22, 45), (43, 44), (29, 21), (11, 31), (20, 48), (9, 34), (42, 9), (47, 16), (0, 13), (21, 8), (2, 13), (16, 11), (48, 7), (34, 12), (42, 50), (41, 13), (35, 40), (27, 12), (45, 36), (45, 46), (8, 42), (33, 38), (23, 40), (1, 45), (41, 34), (12, 23), (13, 7), (44, 48), (48, 23), (20, 10), (20, 33), (19, 33), (20, 18), (7, 47), (19, 4), (23, 45), (8, 43), (25, 27), (43, 23), (32, 45), (40, 41), (29, 18), (48, 37), (44, 0), (44, 32), (12, 8), (10, 36), (38, 29), (9, 5), (2, 24), (50, 21), (46, 28), (7, 14), (5, 38), (11, 20), (3, 14), (13, 16), (28, 48), (1, 2), (31, 3), (42, 36), (50, 28), (14, 37), (13, 44), (3, 18), (12, 8), (37, 10), (7, 41), (26, 24), (7, 47), (33, 41), (18, 0), (26, 33), (29, 15), (37, 1), (29, 39), (21, 44), (43, 23), (35, 8), (21, 6), (22, 5), (6, 7), (6, 14), (2, 50), (27, 11), (14, 37), (37, 25), (22, 19), (19, 40), (7, 3), (21, 32), (9, 35), (47, 48), (47, 1), (38, 50), (35, 48), (32, 14), (37, 49), (1, 26), (16, 22), (40, 9), (19, 5), (20, 11), (15, 18), (46, 12), (41, 22), (29, 17), (40, 22), (15, 10), (22, 49), (3, 48), (37, 48), (5, 32), (3, 30), (33, 43), (5, 36), (12, 26), (4, 32), (48, 1), (49, 4), (8, 50), (11, 42), (11, 6), (1, 9), (25, 18), (6, 20), (0, 0), (30, 45), (25, 12), (13, 26), (43, 9), (25, 15), (36, 2), (45, 26), (0, 46), (31, 0), (4, 26), (32, 4), (27, 37), (27, 34), (0, 40), (36, 45), (31, 3), (31, 25), (7, 42), (36, 39), (39, 43), (23, 43), (1, 7), (45, 9), (0, 14), (10, 39), (0, 47), (39, 33), (50, 0), (12, 18), (27, 43), (32, 37), (25, 0), (47, 14), (15, 13), (17, 1), (8, 13), (10, 25), (8, 31), (18, 24), (47, 47), (36, 15), (50, 30), (37, 3), (22, 17), (31, 15), (33, 0), (4, 26), (16, 31), (2, 11), (44, 37), (37, 35), (13, 48), (0, 11), (41, 28), (42, 21), (19, 42), (33, 12), (23, 39), (45, 32), (4, 26), (4, 22), (42, 42), (21, 6), (3, 24), (19, 49), (3, 5), (46, 21), (37, 13), (25, 22), (28, 37), (28, 37), (48, 3), (4, 50), (20, 2), (22, 19), (42, 48), (37, 23), (31, 25), (16, 19), (48, 37), (3, 11), (26, 34), (29, 4), (25, 11), (6, 34), (7, 36), (30, 43), (13, 43), (40, 11), (9, 31), (18, 30), (7, 30), (28, 4), (15, 47), (46, 9), (13, 27), (37, 26), (30, 30), (42, 5), (38, 8), (29, 18), (29, 42), (27, 33), (44, 28), (9, 29), (38, 47), (7, 24), (43, 49), (47, 43), (44, 11), (11, 23), (37, 29), (11, 14), (12, 25), (43, 21), (25, 48), (35, 13), (36, 0), (31, 22), (47, 41), (25, 41), (17, 29), (49, 47), (9, 1), (14, 10), (14, 44), (38, 44), (3, 46), (43, 25), (10, 8), (8, 20), (4, 12), (29, 43), (21, 18), (15, 32), (4, 23), (33, 24), (41, 30), (41, 7), (15, 15), (17, 4), (18, 12), (23, 46), (47, 40), (8, 30), (39, 49), (33, 22), (45, 49), (25, 38), (28, 8), (45, 45), (35, 50), (26, 26), (13, 43), (23, 9), (16, 15), (34, 35), (24, 48), (30, 10), (18, 0), (42, 41), (4, 49), (46, 35), (8, 12), (30, 19), (44, 31), (13, 39), (25, 44), (2, 10), (25, 14), (16, 35), (45, 29), (38, 35), (20, 16), (13, 22), (32, 13), (43, 32), (15, 8), (10, 49), (27, 8), (10, 21), (1, 1), (36, 41), (47, 17), (29, 30), (4, 19), (28, 42), (18, 21), (37, 33), (1, 18), (24, 39), (31, 31), (17, 27), (21, 18), (7, 28), (23, 46)]\n"
          ]
        }
      ]
    },
    {
      "cell_type": "code",
      "source": [
        "G = nx.Graph()\n",
        "l=[]\n",
        "for i in range(1000):\n",
        "  p=[]\n",
        "  p[0]=\n",
        "G.add_edges_from([[0,3],[0,4],[1,3],[1,4],[2,3],[2,4],[1,2],[0,2],[1,0]])\n",
        "nx.draw(G, pos=nx.bipartite_layout(G, [0,1,2]))"
      ],
      "metadata": {
        "colab": {
          "base_uri": "https://localhost:8080/",
          "height": 516
        },
        "id": "-NeEWyNgVOQD",
        "outputId": "b131e1c1-9679-43c6-f280-20054c7353ed"
      },
      "execution_count": null,
      "outputs": [
        {
          "output_type": "display_data",
          "data": {
            "text/plain": [
              "<Figure size 640x480 with 1 Axes>"
            ],
            "image/png": "[encoded data removed]"
          },
          "metadata": {}
        }
      ]
    },
    {
      "cell_type": "code",
      "source": [
        "def append_zz_term(qc, q1, q2, gamma):\n",
        "    qc.cx(q1,q2)\n",
        "    qc.rz(2*gamma, q2)\n",
        "    qc.cx(q1,q2)\n",
        "\n",
        "def append_cost_operator_circuit(qc, G, gamma):\n",
        "    for i, j in G.edges():\n",
        "        append_zz_term(qc, i, j, gamma)"
      ],
      "metadata": {
        "id": "xDRAeAWbVPCk"
      },
      "execution_count": null,
      "outputs": []
    },
    {
      "cell_type": "code",
      "source": [
        "N = G.number_of_nodes()\n",
        "qc = QuantumCircuit(N)\n",
        "append_cost_operator_circuit(qc, G, np.pi / 3)\n",
        "qc.draw()"
      ],
      "metadata": {
        "colab": {
          "base_uri": "https://localhost:8080/",
          "height": 525
        },
        "id": "qv_W-wm6VSiZ",
        "outputId": "0067c286-24f2-4266-9ff5-92c2d1c53c16"
      },
      "execution_count": null,
      "outputs": [
        {
          "output_type": "execute_result",
          "data": {
            "text/plain": [
              "                                                                            »\n",
              "q_0: ──■────────────────■────■────────────────■────■────────────────■────■──»\n",
              "       │                │    │                │    │                │  ┌─┴─┐»\n",
              "q_1: ──┼────────────────┼────┼────────────────┼────┼────────────────┼──┤ X ├»\n",
              "       │                │    │                │  ┌─┴─┐┌──────────┐┌─┴─┐└───┘»\n",
              "q_2: ──┼────────────────┼────┼────────────────┼──┤ X ├┤ Rz(2π/3) ├┤ X ├─────»\n",
              "     ┌─┴─┐┌──────────┐┌─┴─┐  │                │  └───┘└──────────┘└───┘     »\n",
              "q_3: ┤ X ├┤ Rz(2π/3) ├┤ X ├──┼────────────────┼─────────────────────────────»\n",
              "     └───┘└──────────┘└───┘┌─┴─┐┌──────────┐┌─┴─┐                           »\n",
              "q_4: ──────────────────────┤ X ├┤ Rz(2π/3) ├┤ X ├───────────────────────────»\n",
              "                           └───┘└──────────┘└───┘                           »\n",
              "«                                                                            »\n",
              "«q_0: ──────────────■────────────────────────────────────────────────────────»\n",
              "«     ┌──────────┐┌─┴─┐┌───┐┌──────────┐┌───┐     ┌───┐┌──────────┐     ┌───┐»\n",
              "«q_1: ┤ Rz(2π/3) ├┤ X ├┤ X ├┤ Rz(2π/3) ├┤ X ├─────┤ X ├┤ Rz(2π/3) ├─────┤ X ├»\n",
              "«     └──────────┘└───┘└─┬─┘└──────────┘└─┬─┘┌───┐└─┬─┘├──────────┤┌───┐└─┬─┘»\n",
              "«q_2: ───────────────────┼────────────────┼──┤ X ├──┼──┤ Rz(2π/3) ├┤ X ├──┼──»\n",
              "«                        │                │  └─┬─┘  │  └──────────┘└─┬─┘  │  »\n",
              "«q_3: ───────────────────■────────────────■────■────┼────────────────■────┼──»\n",
              "«                                                   │                     │  »\n",
              "«q_4: ──────────────────────────────────────────────■─────────────────────■──»\n",
              "«                                                                            »\n",
              "«                                                 \n",
              "«q_0: ────────────────────────────────────────────\n",
              "«                                                 \n",
              "«q_1: ────────────────────────■────────────────■──\n",
              "«     ┌───┐┌──────────┐┌───┐┌─┴─┐┌──────────┐┌─┴─┐\n",
              "«q_2: ┤ X ├┤ Rz(2π/3) ├┤ X ├┤ X ├┤ Rz(2π/3) ├┤ X ├\n",
              "«     └─┬─┘└──────────┘└─┬─┘└───┘└──────────┘└───┘\n",
              "«q_3: ──┼────────────────┼────────────────────────\n",
              "«       │                │                        \n",
              "«q_4: ──■────────────────■────────────────────────\n",
              "«                                                 "
            ],
            "text/html": [
              "<pre style=\"word-wrap: normal;white-space: pre;background: #fff0;line-height: 1.1;font-family: &quot;Courier New&quot;,Courier,monospace\">                                                                            »\n",
              "q_0: ──■────────────────■────■────────────────■────■────────────────■────■──»\n",
              "       │                │    │                │    │                │  ┌─┴─┐»\n",
              "q_1: ──┼────────────────┼────┼────────────────┼────┼────────────────┼──┤ X ├»\n",
              "       │                │    │                │  ┌─┴─┐┌──────────┐┌─┴─┐└───┘»\n",
              "q_2: ──┼────────────────┼────┼────────────────┼──┤ X ├┤ Rz(2π/3) ├┤ X ├─────»\n",
              "     ┌─┴─┐┌──────────┐┌─┴─┐  │                │  └───┘└──────────┘└───┘     »\n",
              "q_3: ┤ X ├┤ Rz(2π/3) ├┤ X ├──┼────────────────┼─────────────────────────────»\n",
              "     └───┘└──────────┘└───┘┌─┴─┐┌──────────┐┌─┴─┐                           »\n",
              "q_4: ──────────────────────┤ X ├┤ Rz(2π/3) ├┤ X ├───────────────────────────»\n",
              "                           └───┘└──────────┘└───┘                           »\n",
              "«                                                                            »\n",
              "«q_0: ──────────────■────────────────────────────────────────────────────────»\n",
              "«     ┌──────────┐┌─┴─┐┌───┐┌──────────┐┌───┐     ┌───┐┌──────────┐     ┌───┐»\n",
              "«q_1: ┤ Rz(2π/3) ├┤ X ├┤ X ├┤ Rz(2π/3) ├┤ X ├─────┤ X ├┤ Rz(2π/3) ├─────┤ X ├»\n",
              "«     └──────────┘└───┘└─┬─┘└──────────┘└─┬─┘┌───┐└─┬─┘├──────────┤┌───┐└─┬─┘»\n",
              "«q_2: ───────────────────┼────────────────┼──┤ X ├──┼──┤ Rz(2π/3) ├┤ X ├──┼──»\n",
              "«                        │                │  └─┬─┘  │  └──────────┘└─┬─┘  │  »\n",
              "«q_3: ───────────────────■────────────────■────■────┼────────────────■────┼──»\n",
              "«                                                   │                     │  »\n",
              "«q_4: ──────────────────────────────────────────────■─────────────────────■──»\n",
              "«                                                                            »\n",
              "«                                                 \n",
              "«q_0: ────────────────────────────────────────────\n",
              "«                                                 \n",
              "«q_1: ────────────────────────■────────────────■──\n",
              "«     ┌───┐┌──────────┐┌───┐┌─┴─┐┌──────────┐┌─┴─┐\n",
              "«q_2: ┤ X ├┤ Rz(2π/3) ├┤ X ├┤ X ├┤ Rz(2π/3) ├┤ X ├\n",
              "«     └─┬─┘└──────────┘└─┬─┘└───┘└──────────┘└───┘\n",
              "«q_3: ──┼────────────────┼────────────────────────\n",
              "«       │                │                        \n",
              "«q_4: ──■────────────────■────────────────────────\n",
              "«                                                 </pre>"
            ]
          },
          "metadata": {},
          "execution_count": 53
        }
      ]
    },
    {
      "cell_type": "code",
      "source": [
        "def append_x_term(qc, q1, beta):\n",
        "    qc.rx(2*beta, q1)\n",
        "\n",
        "def append_mixer_operator_circuit(qc, G, beta):\n",
        "    for n in G.nodes():\n",
        "        append_x_term(qc, n, beta)\n",
        "    return qc"
      ],
      "metadata": {
        "id": "MMS5jqJ7VZha"
      },
      "execution_count": null,
      "outputs": []
    },
    {
      "cell_type": "code",
      "source": [
        "N = G.number_of_nodes()\n",
        "qc = QuantumCircuit(N)\n",
        "append_mixer_operator_circuit(qc, G, np.pi/3)\n",
        "qc.draw()"
      ],
      "metadata": {
        "colab": {
          "base_uri": "https://localhost:8080/",
          "height": 186
        },
        "id": "FsNyN0aRVb30",
        "outputId": "6d905906-59d0-4736-916f-18436f394745"
      },
      "execution_count": null,
      "outputs": [
        {
          "output_type": "execute_result",
          "data": {
            "text/plain": [
              "     ┌──────────┐\n",
              "q_0: ┤ Rx(2π/3) ├\n",
              "     ├──────────┤\n",
              "q_1: ┤ Rx(2π/3) ├\n",
              "     ├──────────┤\n",
              "q_2: ┤ Rx(2π/3) ├\n",
              "     ├──────────┤\n",
              "q_3: ┤ Rx(2π/3) ├\n",
              "     ├──────────┤\n",
              "q_4: ┤ Rx(2π/3) ├\n",
              "     └──────────┘"
            ],
            "text/html": [
              "<pre style=\"word-wrap: normal;white-space: pre;background: #fff0;line-height: 1.1;font-family: &quot;Courier New&quot;,Courier,monospace\">     ┌──────────┐\n",
              "q_0: ┤ Rx(2π/3) ├\n",
              "     ├──────────┤\n",
              "q_1: ┤ Rx(2π/3) ├\n",
              "     ├──────────┤\n",
              "q_2: ┤ Rx(2π/3) ├\n",
              "     ├──────────┤\n",
              "q_3: ┤ Rx(2π/3) ├\n",
              "     ├──────────┤\n",
              "q_4: ┤ Rx(2π/3) ├\n",
              "     └──────────┘</pre>"
            ]
          },
          "metadata": {},
          "execution_count": 11
        }
      ]
    },
    {
      "cell_type": "code",
      "source": [
        "def get_qaoa_circuit(G, beta, gamma):\n",
        "    assert(len(beta) == len(gamma))\n",
        "    p = len(beta) # infering number of QAOA steps from the parameters passed\n",
        "    N = G.number_of_nodes()\n",
        "    qc = QuantumCircuit(N,N)\n",
        "    # first, apply a layer of Hadamards\n",
        "    qc.h(range(N))\n",
        "    # second, apply p alternating operators\n",
        "    for i in range(p):\n",
        "        append_cost_operator_circuit(qc, G, beta[i])\n",
        "        append_mixer_operator_circuit(qc, G, gamma[i])\n",
        "    # finally, do not forget to measure the result!\n",
        "    qc.barrier(range(N))\n",
        "    qc.measure(range(N), range(N))\n",
        "    return qc"
      ],
      "metadata": {
        "id": "FSFlS5pvVgtT"
      },
      "execution_count": null,
      "outputs": []
    },
    {
      "cell_type": "code",
      "source": [
        "qc = get_qaoa_circuit(G,[np.pi/3], [np.pi/2])\n",
        "qc.draw()"
      ],
      "metadata": {
        "colab": {
          "base_uri": "https://localhost:8080/",
          "height": 618
        },
        "id": "GAc9VezYVi5D",
        "outputId": "0ff7ca76-a6a9-4a2d-f572-08fb585a2e69"
      },
      "execution_count": null,
      "outputs": [
        {
          "output_type": "execute_result",
          "data": {
            "text/plain": [
              "     ┌───┐                                                                  »\n",
              "q_0: ┤ H ├──■────────────────■────■────────────────────────────■─────────■──»\n",
              "     ├───┤  │                │    │     ┌───┐    ┌──────────┐  │  ┌───┐  │  »\n",
              "q_1: ┤ H ├──┼────────────────┼────┼─────┤ X ├────┤ Rz(2π/3) ├──┼──┤ X ├──┼──»\n",
              "     ├───┤  │                │    │     └─┬─┘    └──────────┘  │  └─┬─┘┌─┴─┐»\n",
              "q_2: ┤ H ├──┼────────────────┼────┼───────┼────────────────────┼────┼──┤ X ├»\n",
              "     ├───┤┌─┴─┐┌──────────┐┌─┴─┐  │       │                    │    │  └───┘»\n",
              "q_3: ┤ H ├┤ X ├┤ Rz(2π/3) ├┤ X ├──┼───────■────────────────────┼────■───────»\n",
              "     ├───┤└───┘└──────────┘└───┘┌─┴─┐┌──────────┐            ┌─┴─┐          »\n",
              "q_4: ┤ H ├──────────────────────┤ X ├┤ Rz(2π/3) ├────────────┤ X ├──────────»\n",
              "     └───┘                      └───┘└──────────┘            └───┘          »\n",
              "c: 5/═══════════════════════════════════════════════════════════════════════»\n",
              "                                                                            »\n",
              "«                           ┌───────┐                                       »\n",
              "«q_0: ───────────────────■──┤ Rx(π) ├───────────────────────────────────────»\n",
              "«     ┌───┐┌──────────┐  │  └─┬───┬─┘                                       »\n",
              "«q_1: ┤ X ├┤ Rz(2π/3) ├──┼────┤ X ├─────────────────────────────────────────»\n",
              "«     └─┬─┘├──────────┤┌─┴─┐  └─┬─┘  ┌───┐┌──────────┐┌───┐┌───┐┌──────────┐»\n",
              "«q_2: ──┼──┤ Rz(2π/3) ├┤ X ├────┼────┤ X ├┤ Rz(2π/3) ├┤ X ├┤ X ├┤ Rz(2π/3) ├»\n",
              "«       │  └──────────┘└───┘    │    └─┬─┘└──────────┘└─┬─┘└─┬─┘└┬───────┬─┘»\n",
              "«q_3: ──┼───────────────────────┼──────■────────────────■────┼───┤ Rx(π) ├──»\n",
              "«       │                       │                            │   └───────┘  »\n",
              "«q_4: ──■───────────────────────■────────────────────────────■──────────────»\n",
              "«                                                                           »\n",
              "«c: 5/══════════════════════════════════════════════════════════════════════»\n",
              "«                                                                           »\n",
              "«                                              ░ ┌─┐            \n",
              "«q_0: ─────────────────────────────────────────░─┤M├────────────\n",
              "«                                    ┌───────┐ ░ └╥┘┌─┐         \n",
              "«q_1: ─────────■──────────────────■──┤ Rx(π) ├─░──╫─┤M├─────────\n",
              "«     ┌───┐  ┌─┴─┐  ┌──────────┐┌─┴─┐├───────┤ ░  ║ └╥┘┌─┐      \n",
              "«q_2: ┤ X ├──┤ X ├──┤ Rz(2π/3) ├┤ X ├┤ Rx(π) ├─░──╫──╫─┤M├──────\n",
              "«     └─┬─┘  └───┘  └──────────┘└───┘└───────┘ ░  ║  ║ └╥┘┌─┐   \n",
              "«q_3: ──┼──────────────────────────────────────░──╫──╫──╫─┤M├───\n",
              "«       │  ┌───────┐                           ░  ║  ║  ║ └╥┘┌─┐\n",
              "«q_4: ──■──┤ Rx(π) ├───────────────────────────░──╫──╫──╫──╫─┤M├\n",
              "«          └───────┘                           ░  ║  ║  ║  ║ └╥┘\n",
              "«c: 5/════════════════════════════════════════════╩══╩══╩══╩══╩═\n",
              "«                                                 0  1  2  3  4 "
            ],
            "text/html": [
              "<pre style=\"word-wrap: normal;white-space: pre;background: #fff0;line-height: 1.1;font-family: &quot;Courier New&quot;,Courier,monospace\">     ┌───┐                                                                  »\n",
              "q_0: ┤ H ├──■────────────────■────■────────────────────────────■─────────■──»\n",
              "     ├───┤  │                │    │     ┌───┐    ┌──────────┐  │  ┌───┐  │  »\n",
              "q_1: ┤ H ├──┼────────────────┼────┼─────┤ X ├────┤ Rz(2π/3) ├──┼──┤ X ├──┼──»\n",
              "     ├───┤  │                │    │     └─┬─┘    └──────────┘  │  └─┬─┘┌─┴─┐»\n",
              "q_2: ┤ H ├──┼────────────────┼────┼───────┼────────────────────┼────┼──┤ X ├»\n",
              "     ├───┤┌─┴─┐┌──────────┐┌─┴─┐  │       │                    │    │  └───┘»\n",
              "q_3: ┤ H ├┤ X ├┤ Rz(2π/3) ├┤ X ├──┼───────■────────────────────┼────■───────»\n",
              "     ├───┤└───┘└──────────┘└───┘┌─┴─┐┌──────────┐            ┌─┴─┐          »\n",
              "q_4: ┤ H ├──────────────────────┤ X ├┤ Rz(2π/3) ├────────────┤ X ├──────────»\n",
              "     └───┘                      └───┘└──────────┘            └───┘          »\n",
              "c: 5/═══════════════════════════════════════════════════════════════════════»\n",
              "                                                                            »\n",
              "«                           ┌───────┐                                       »\n",
              "«q_0: ───────────────────■──┤ Rx(π) ├───────────────────────────────────────»\n",
              "«     ┌───┐┌──────────┐  │  └─┬───┬─┘                                       »\n",
              "«q_1: ┤ X ├┤ Rz(2π/3) ├──┼────┤ X ├─────────────────────────────────────────»\n",
              "«     └─┬─┘├──────────┤┌─┴─┐  └─┬─┘  ┌───┐┌──────────┐┌───┐┌───┐┌──────────┐»\n",
              "«q_2: ──┼──┤ Rz(2π/3) ├┤ X ├────┼────┤ X ├┤ Rz(2π/3) ├┤ X ├┤ X ├┤ Rz(2π/3) ├»\n",
              "«       │  └──────────┘└───┘    │    └─┬─┘└──────────┘└─┬─┘└─┬─┘└┬───────┬─┘»\n",
              "«q_3: ──┼───────────────────────┼──────■────────────────■────┼───┤ Rx(π) ├──»\n",
              "«       │                       │                            │   └───────┘  »\n",
              "«q_4: ──■───────────────────────■────────────────────────────■──────────────»\n",
              "«                                                                           »\n",
              "«c: 5/══════════════════════════════════════════════════════════════════════»\n",
              "«                                                                           »\n",
              "«                                              ░ ┌─┐            \n",
              "«q_0: ─────────────────────────────────────────░─┤M├────────────\n",
              "«                                    ┌───────┐ ░ └╥┘┌─┐         \n",
              "«q_1: ─────────■──────────────────■──┤ Rx(π) ├─░──╫─┤M├─────────\n",
              "«     ┌───┐  ┌─┴─┐  ┌──────────┐┌─┴─┐├───────┤ ░  ║ └╥┘┌─┐      \n",
              "«q_2: ┤ X ├──┤ X ├──┤ Rz(2π/3) ├┤ X ├┤ Rx(π) ├─░──╫──╫─┤M├──────\n",
              "«     └─┬─┘  └───┘  └──────────┘└───┘└───────┘ ░  ║  ║ └╥┘┌─┐   \n",
              "«q_3: ──┼──────────────────────────────────────░──╫──╫──╫─┤M├───\n",
              "«       │  ┌───────┐                           ░  ║  ║  ║ └╥┘┌─┐\n",
              "«q_4: ──■──┤ Rx(π) ├───────────────────────────░──╫──╫──╫──╫─┤M├\n",
              "«          └───────┘                           ░  ║  ║  ║  ║ └╥┘\n",
              "«c: 5/════════════════════════════════════════════╩══╩══╩══╩══╩═\n",
              "«                                                 0  1  2  3  4 </pre>"
            ]
          },
          "metadata": {},
          "execution_count": 13
        }
      ]
    },
    {
      "cell_type": "code",
      "source": [
        "def invert_counts(counts):\n",
        "    return {k[::-1]:v for k, v in counts.items()}"
      ],
      "metadata": {
        "id": "WzYcYwF_VjS9"
      },
      "execution_count": null,
      "outputs": []
    },
    {
      "cell_type": "code",
      "source": [
        "backend = Aer.get_backend('qasm_simulator')\n",
        "job = execute(qc, backend)\n",
        "result = job.result()\n",
        "print(invert_counts(result.get_counts()))"
      ],
      "metadata": {
        "colab": {
          "base_uri": "https://localhost:8080/"
        },
        "id": "sBtTNex4Vo_q",
        "outputId": "ca26b49c-238e-41d4-ae38-4b9c2d1c3b52"
      },
      "execution_count": null,
      "outputs": [
        {
          "output_type": "stream",
          "name": "stdout",
          "text": [
            "{'00001': 23, '01001': 33, '10101': 29, '00111': 23, '10110': 29, '01011': 33, '10010': 23, '10001': 24, '10100': 30, '00011': 39, '10000': 30, '01100': 44, '01000': 46, '11101': 34, '00101': 36, '11001': 38, '11110': 30, '01010': 26, '01111': 42, '11010': 34, '10111': 30, '00000': 46, '10011': 31, '00010': 31, '00110': 36, '11111': 30, '11011': 35, '11100': 30, '11000': 26, '01101': 30, '00100': 34, '01110': 19}\n"
          ]
        }
      ]
    },
    {
      "cell_type": "code",
      "source": [
        "import matplotlib.pyplot as plt\n",
        "\n",
        "def plot_bar_graph(data_dict, title=\"Bar Graph\", xlabel=\"Keys\", ylabel=\"Values\"):\n",
        "    keys = list(data_dict.keys())\n",
        "    values = list(data_dict.values())\n",
        "\n",
        "    plt.figure(figsize=(10, 6))  # Set the figure size (width, height) in inches\n",
        "\n",
        "    plt.bar(keys, values, color='skyblue')  # Plotting the bar graph\n",
        "\n",
        "    plt.title(title)  # Set the title of the graph\n",
        "    plt.xlabel(xlabel)  # Set the label for x-axis\n",
        "    plt.ylabel(ylabel)  # Set the label for y-axis\n",
        "\n",
        "    plt.xticks(rotation=45, ha='right')  # Rotate x-axis labels for better readability\n",
        "    plt.tight_layout()  # Adjust layout to prevent clipping of labels\n",
        "\n",
        "    plt.show()  # Display the plot\n",
        "\n",
        "# Example usage:\n",
        "data = invert_counts(result.get_counts())\n",
        "\n",
        "plot_bar_graph(data, title=\"Optimisation\", xlabel=\"Paths\", ylabel=\"Probability\")\n"
      ],
      "metadata": {
        "colab": {
          "base_uri": "https://localhost:8080/",
          "height": 529
        },
        "id": "dx3MjQ63ssnl",
        "outputId": "6c4f0318-d918-46e2-c25d-b950e4ce5732"
      },
      "execution_count": null,
      "outputs": [
        {
          "output_type": "display_data",
          "data": {
            "text/plain": [
              "<Figure size 1000x600 with 1 Axes>"
            ],
            "image/png": "[encoded data removed]"
          },
          "metadata": {}
        }
      ]
    },
    {
      "source": [
        "import random\n",
        "from deap import base, creator, tools\n",
        "\n",
        "class Order:\n",
        "    def __init__(self, id, items):\n",
        "        self.id = id\n",
        "        self.items = items\n",
        "\n",
        "class Warehouse:\n",
        "    def __init__(self, layout, items):\n",
        "        self.layout = layout  # 2D list representing warehouse layout\n",
        "        self.items = {item.id: item for item in items}  # Dictionary for fast item lookup\n",
        "\n",
        "class Item:\n",
        "    def __init__(self, id, location):\n",
        "        self.id = id\n",
        "        self.location = location\n",
        "\n",
        "def distance(location1, location2):\n",
        "    # Implement logic to calculate distance between two locations based on your warehouse layout\n",
        "    # This could involve Manhattan distance or actual pathfinding depending on complexity\n",
        "    return abs(ord(location1[0]) - ord(location2[0])) + abs(int(location1[1:]) - int(location2[1:]))\n",
        "\n",
        "def evaluate_fitness(batch, warehouse):\n",
        "    total_distance = 0\n",
        "    current_location = \"A1\"  # Initial picker location (adjust as needed)\n",
        "    for order_id in batch:\n",
        "        if order_id in warehouse.items:  # Check if order ID exists\n",
        "            order = warehouse.items[order_id]\n",
        "            for item in order.items:  # Iterate over Item objects in the Order\n",
        "                # Access item properties directly (e.g., item.id, item.location)\n",
        "                total_distance += distance(current_location, item.location)\n",
        "                current_location = item.location\n",
        "        else:\n",
        "            # Handle invalid order ID (e.g., skip or raise exception)\n",
        "            pass\n",
        "    return (1 / total_distance,) if total_distance > 0 else (0,)  # Ensure non-zero fitness\n",
        "\n",
        "\n",
        "def pick_batch(warehouse, order_ids):\n",
        "    # Initialize DEAP toolbox\n",
        "    creator.create(\"FitnessMin\", base.Fitness, weights=(-1.0,))\n",
        "    creator.create(\"Individual\", list, fitness=creator.FitnessMin)\n",
        "\n",
        "    toolbox"
      ],
      "cell_type": "code",
      "metadata": {
        "id": "FwJmT1866Jrg"
      },
      "execution_count": null,
      "outputs": []
    },
    {
      "source": [
        "!pip install deap"
      ],
      "cell_type": "code",
      "metadata": {
        "colab": {
          "base_uri": "https://localhost:8080/"
        },
        "id": "nUBm0ZrL5_NR",
        "outputId": "816f102a-0f2e-4895-efae-52b3fcb8d682"
      },
      "execution_count": null,
      "outputs": [
        {
          "output_type": "stream",
          "name": "stdout",
          "text": [
            "Collecting deap\n",
            "  Downloading deap-1.4.1-cp310-cp310-manylinux_2_5_x86_64.manylinux1_x86_64.manylinux_2_17_x86_64.manylinux2014_x86_64.whl (135 kB)\n",
            "\u001b[?25l     \u001b[90m━━━━━━━━━━━━━━━━━━━━━━━━━━━━━━━━━━━━━━━━\u001b[0m \u001b[32m0.0/135.4 kB\u001b[0m \u001b[31m?\u001b[0m eta \u001b[36m-:--:--\u001b[0m\r\u001b[2K     \u001b[91m━━━━━━━━━━━━━━━━━━━━━━━━━━━\u001b[0m\u001b[90m╺\u001b[0m\u001b[90m━━━━━━━━━━━━\u001b[0m \u001b[32m92.2/135.4 kB\u001b[0m \u001b[31m2.6 MB/s\u001b[0m eta \u001b[36m0:00:01\u001b[0m\r\u001b[2K     \u001b[90m━━━━━━━━━━━━━━━━━━━━━━━━━━━━━━━━━━━━━━━━\u001b[0m \u001b[32m135.4/135.4 kB\u001b[0m \u001b[31m2.9 MB/s\u001b[0m eta \u001b[36m0:00:00\u001b[0m\n",
            "\u001b[?25hRequirement already satisfied: numpy in /usr/local/lib/python3.10/dist-packages (from deap) (1.23.5)\n",
            "Installing collected packages: deap\n",
            "Successfully installed deap-1.4.1\n"
          ]
        }
      ]
    },
    {
      "source": [
        "!python -m qiskit.providers.aer.backends"
      ],
      "cell_type": "code",
      "metadata": {
        "colab": {
          "base_uri": "https://localhost:8080/"
        },
        "id": "xdSBdP7Y6hs3",
        "outputId": "5f28ff91-6eb2-4d02-f2dd-955d3a88ddec"
      },
      "execution_count": null,
      "outputs": [
        {
          "output_type": "stream",
          "name": "stdout",
          "text": [
            "Traceback (most recent call last):\n",
            "  File \"/usr/lib/python3.10/runpy.py\", line 187, in _run_module_as_main\n",
            "    mod_name, mod_spec, code = _get_module_details(mod_name, _Error)\n",
            "  File \"/usr/lib/python3.10/runpy.py\", line 157, in _get_module_details\n",
            "    code = loader.get_code(mod_name)\n",
            "AttributeError: 'QiskitLoader' object has no attribute 'get_code'\n"
          ]
        }
      ]
    },
    {
      "source": [
        "simulator = Aer.get_backend('qasm_simulator')"
      ],
      "cell_type": "code",
      "metadata": {
        "id": "ciDvevUV6lsy"
      },
      "execution_count": null,
      "outputs": []
    },
    {
      "source": [
        "simulator = Aer.get_backend('qasm_simulator')"
      ],
      "cell_type": "code",
      "metadata": {
        "id": "-VV-oQJX6aEp"
      },
      "execution_count": null,
      "outputs": []
    },
    {
      "cell_type": "code",
      "source": [
        "def path_to_coordinates(path):\n",
        "    # Define starting point\n",
        "    x, y = 0, 0\n",
        "    coordinates = [(x, y)]  # Add starting point to coordinates list\n",
        "\n",
        "    # Interpret the path\n",
        "    for step in path:\n",
        "        if step == '0':\n",
        "            x += 1  # Move along x-axis\n",
        "        elif step == '1':\n",
        "            y += 1  # Move along y-axis\n",
        "        coordinates.append((x, y))  # Add current coordinates to the list\n",
        "\n",
        "    return coordinates\n",
        "\n",
        "# Example path\n",
        "path = \"00000\"\n",
        "\n",
        "# Convert path to coordinates\n",
        "coordinates = path_to_coordinates(path)\n",
        "\n",
        "# Print the coordinates of each node\n",
        "for i, coord in enumerate(coordinates):\n",
        "    print(f\"Node {i+1}: {coord}\")"
      ],
      "metadata": {
        "colab": {
          "base_uri": "https://localhost:8080/"
        },
        "id": "QPBOI4-l6api",
        "outputId": "69095b44-1dcc-4a4c-93bb-b8eec161b766"
      },
      "execution_count": null,
      "outputs": [
        {
          "output_type": "stream",
          "name": "stdout",
          "text": [
            "Node 1: (0, 0)\n",
            "Node 2: (1, 0)\n",
            "Node 3: (2, 0)\n",
            "Node 4: (3, 0)\n",
            "Node 5: (4, 0)\n",
            "Node 6: (5, 0)\n"
          ]
        }
      ]
    },
    {
      "cell_type": "code",
      "source": [
        "import matplotlib.pyplot as plt\n",
        "\n",
        "# Get user input for number of nodes\n",
        "num_nodes = int(input(\"Enter the number of nodes in your graph: \"))\n",
        "\n",
        "# Initialize empty lists for nodes and edges\n",
        "nodes = []\n",
        "edges = []\n",
        "\n",
        "# Get user input for node coordinates (accepting floats)\n",
        "for i in range(num_nodes):\n",
        "    print(f\"Enter coordinates for node {i+1} (x, y): \")\n",
        "    x, y = map(float, input().split(\",\"))  # Split by comma (\",\")\n",
        "\n",
        "    nodes.append((x, y))  # Add coordinates as a tuple\n",
        "\n",
        "# Get user input for edges (optional)\n",
        "has_edges = input(\"Do you want to define edges between nodes? (y/n): \")\n",
        "if has_edges.lower() == 'y':\n",
        "    while True:\n",
        "        print(\"Enter two node coordinates (separated by space) to connect with an edge (or 'q' to quit): \")\n",
        "        edge_input = input()\n",
        "        if edge_input.lower() == 'q':\n",
        "            break\n",
        "        try:\n",
        "            # Convert input coordinates to floats (assuming format \"x y\")\n",
        "            start_x, start_y, end_x, end_y = map(float, edge_input.split())\n",
        "\n",
        "            # Find indices of nodes based on coordinates (assuming unique coordinates)\n",
        "            start_index = -1\n",
        "            end_index = -1\n",
        "            for i, node in enumerate(nodes):\n",
        "                if node[0] == start_x and node[1] == start_y:\n",
        "                    start_index = i\n",
        "                if node[0] == end_x and node[1] == end_y:\n",
        "                    end_index = i\n",
        "\n",
        "            if start_index != -1 and end_index != -1:\n",
        "                edges.append((start_index, end_index))  # Add edge as a tuple of node indices\n",
        "            else:\n",
        "                print(\"Invalid node coordinates. Please enter coordinates that match existing nodes.\")\n",
        "        except ValueError:\n",
        "            print(\"Invalid input. Please enter four space-separated floating-point values (x1 y1 x2 y2).\")\n",
        "\n",
        "# Create the plot\n",
        "fig, ax = plt.subplots()\n",
        "\n",
        "# Draw edges (if any)\n",
        "for start, end in edges:\n",
        "    x_values = [nodes[start][0], nodes[end][0]]\n",
        "    y_values = [nodes[start][1], nodes[end][1]]\n",
        "    ax.plot(x_values, y_values, 'b-o', alpha=0.7)  # Blue line with circle markers\n",
        "\n",
        "    # *Show path labels on edges:*\n",
        "    for i, (x, y) in enumerate(zip(x_values, y_values)):\n",
        "        if i == 0:  # Label start node\n",
        "            ax.text(x, y + 0.1, f\"Node {start+1}\", ha='center', va='center', fontsize=12)\n",
        "        else:  # Label end node\n",
        "            ax.text(x, y + 0.1, f\"Node {end+1}\", ha='center', va='center', fontsize=12)\n",
        "\n",
        "# Draw circles for nodes\n",
        "for node in nodes:\n",
        "    ax.add_patch(plt.Rectangle(xy=node, width=0.8, height=0.8, color='lightblue'))\n",
        "\n",
        "# Add labels for nodes\n",
        "for i, node in enumerate(nodes):\n",
        "    ax.text(node[0], node[1] + 0.1, f\"Node {i+1}\", ha='center', va='center', fontsize=12)\n",
        "\n",
        "# Set limits slightly bigger than node coordinates\n",
        "plt.xlim([min(coord[0] for coord in nodes) - 0.5, max(coord[0] for coord in nodes) + 0.5])\n",
        "plt.ylim([min(coord[1] for coord in nodes) - 0.5, max(coord[1] for coord in nodes) + 0.5])\n",
        "\n",
        "# Set axes\n",
        "plt.xlabel('X')\n",
        "plt.ylabel('Y')\n",
        "\n",
        "# Set title\n",
        "plt.title('User-defined Graph with Paths')\n",
        "\n",
        "plt.show()"
      ],
      "metadata": {
        "id": "E27YlkDmE6EI",
        "colab": {
          "base_uri": "https://localhost:8080/",
          "height": 819
        },
        "outputId": "c360db95-a976-4acd-b60f-811b92d5063a"
      },
      "execution_count": null,
      "outputs": [
        {
          "name": "stdout",
          "output_type": "stream",
          "text": [
            "Enter the number of nodes in your graph: 4\n",
            "Enter coordinates for node 1 (x, y): \n",
            "1,2\n",
            "Enter coordinates for node 2 (x, y): \n",
            "0,1\n",
            "Enter coordinates for node 3 (x, y): \n",
            "0,2\n",
            "Enter coordinates for node 4 (x, y): \n",
            "1,3\n",
            "Do you want to define edges between nodes? (y/n): y\n",
            "Enter two node coordinates (separated by space) to connect with an edge (or 'q' to quit): \n",
            "1 2 0 1\n",
            "Enter two node coordinates (separated by space) to connect with an edge (or 'q' to quit): \n",
            "0 1  0 2\n",
            "Enter two node coordinates (separated by space) to connect with an edge (or 'q' to quit): \n",
            "0 2 1 3\n",
            "Enter two node coordinates (separated by space) to connect with an edge (or 'q' to quit): \n",
            "1 3 0 1\n",
            "Enter two node coordinates (separated by space) to connect with an edge (or 'q' to quit): \n",
            "q\n"
          ]
        },
        {
          "output_type": "display_data",
          "data": {
            "text/plain": [
              "<Figure size 640x480 with 1 Axes>"
            ],
            "image/png": "[encoded data removed]"
          },
          "metadata": {}
        }
      ]
    },
    {
      "cell_type": "code",
      "source": [
        "\n",
        "import matplotlib.pyplot as plt\n",
        "\n",
        "# Get user input for number of nodes\n",
        "num_nodes = int(input(\"Enter the number of nodes in your graph: \"))\n",
        "\n",
        "# Initialize empty lists for nodes and edges\n",
        "nodes = []\n",
        "edges = []\n",
        "\n",
        "# Get user input for node coordinates (accepting floats)\n",
        "for i in range(num_nodes):\n",
        "    print(f\"Enter coordinates for node {i+1} (x, y): \")\n",
        "    x, y = map(float, input().split(\",\"))  # Split by comma (\",\")\n",
        "\n",
        "    nodes.append((x, y))  # Add coordinates as a tuple\n",
        "\n",
        "# Get user input for edges (optional)\n",
        "has_edges = input(\"Do you want to define edges between nodes? (y/n): \")\n",
        "if has_edges.lower() == 'y':\n",
        "    while True:\n",
        "        print(\"Enter two node coordinates (separated by space) to connect with an edge (or 'q' to quit): \")\n",
        "        edge_input = input()\n",
        "        if edge_input.lower() == 'q':\n",
        "            break\n",
        "        try:\n",
        "            # Convert input coordinates to floats (assuming format \"x y\")\n",
        "            start_x, start_y, end_x, end_y = map(float, edge_input.split())\n",
        "\n",
        "            # Find indices of nodes based on coordinates (assuming unique coordinates)\n",
        "            start_index = -1\n",
        "            end_index = -1\n",
        "            for i, node in enumerate(nodes):\n",
        "                if node[0] == start_x and node[1] == start_y:\n",
        "                    start_index = i\n",
        "                if node[0] == end_x and node[1] == end_y:\n",
        "                    end_index = i\n",
        "\n",
        "            if start_index != -1 and end_index != -1:\n",
        "                edges.append((start_index, end_index))  # Add edge as a tuple of node indices\n",
        "            else:\n",
        "                print(\"Invalid node coordinates. Please enter coordinates that match existing nodes.\")\n",
        "        except ValueError:\n",
        "            print(\"Invalid input. Please enter four space-separated floating-point values (x1 y1 x2 y2).\")\n",
        "\n",
        "# Create the plot\n",
        "fig, ax = plt.subplots()\n",
        "\n",
        "# Draw edges (if any)\n",
        "for start, end in edges:\n",
        "    x_values = [nodes[start][0], nodes[end][0]]\n",
        "    y_values = [nodes[start][1], nodes[end][1]]\n",
        "    ax.plot(x_values, y_values, 'b-o', alpha=0.7)  # Blue line with circle markers\n",
        "\n",
        "    # *Show path labels on edges:*\n",
        "    for i, (x, y) in enumerate(zip(x_values, y_values)):\n",
        "        if i == 0:  # Label start node\n",
        "            ax.text(x, y + 0.1, f\"Node {start+1}\", ha='center', va='center', fontsize=12)\n",
        "        else:  # Label end node\n",
        "            ax.text(x, y + 0.1, f\"Node {end+1}\", ha='center', va='center', fontsize=12)\n",
        "\n",
        "\n",
        "\n",
        "\n",
        "# Draw rectangles for nodes (modified for grey rectangles of 0.4*0.4)\n",
        "for node in nodes:\n",
        "    ax.add_patch(plt.Rectangle(xy=node, width=0.4, height=0.4, color='grey'))\n",
        "      # Changed color and dimensions\n",
        "for i, node in enumerate(nodes):\n",
        "    ax.text(node[0], node[1] + 0.1, f\"Node {i+1}\", ha='center', va='center', fontsize=12)\n",
        "\n",
        "# Set limits slightly bigger than node coordinates\n",
        "plt.xlim([min(coord[0] for coord in nodes) - 0.5, max(coord[0] for coord in nodes) + 0.5])\n",
        "plt.ylim([min(coord[1] for coord in nodes) - 0.5, max(coord[1] for coord in nodes) + 0.5])\n",
        "\n",
        "# Set axes\n",
        "plt.xlabel('X')\n",
        "plt.ylabel('Y')\n",
        "\n",
        "# Set title\n",
        "plt.title('User-defined Graph with Paths')\n",
        "\n",
        "plt.show()\n",
        "\n",
        "\n",
        "\n"
      ],
      "metadata": {
        "id": "M9H9ovSkE8WQ"
      },
      "execution_count": null,
      "outputs": []
    },
    {
      "cell_type": "code",
      "source": [],
      "metadata": {
        "id": "XKQ-oFINGhKT"
      },
      "execution_count": null,
      "outputs": []
    }
  ]
}
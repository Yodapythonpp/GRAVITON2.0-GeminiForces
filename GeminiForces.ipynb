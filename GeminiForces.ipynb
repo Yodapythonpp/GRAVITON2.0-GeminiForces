{
  "nbformat": 4,
  "nbformat_minor": 0,
  "metadata": {
    "colab": {
      "provenance": [],
      "include_colab_link": true
    },
    "kernelspec": {
      "name": "python3",
      "display_name": "Python 3"
    },
    "language_info": {
      "name": "python"
    }
  },
  "cells": [
    {
      "cell_type": "markdown",
      "metadata": {
        "id": "view-in-github",
        "colab_type": "text"
      },
      "source": [
        "<a href=\"https://colab.research.google.com/github/Yodapythonpp/GRAVITON2.0-GeminiForces/blob/main/GeminiForces.ipynb\" target=\"_parent\"><img src=\"https://colab.research.google.com/assets/colab-badge.svg\" alt=\"Open In Colab\"/></a>"
      ]
    },
    {
      "cell_type": "markdown",
      "source": [
        "Quantum Implementation"
      ],
      "metadata": {
        "id": "iSqS-4oMVpLz"
      }
    },
    {
      "cell_type": "code",
      "execution_count": null,
      "metadata": {
        "id": "K2z4mUkySNz2",
        "outputId": "64c081d6-3d56-4f95-8e56-d701e7f95038",
        "colab": {
          "base_uri": "https://localhost:8080/"
        }
      },
      "outputs": [
        {
          "output_type": "stream",
          "name": "stdout",
          "text": [
            "Collecting qiskit==0.43.0\n",
            "  Downloading qiskit-0.43.0.tar.gz (10.0 kB)\n",
            "  Installing build dependencies ... \u001b[?25l\u001b[?25hdone\n",
            "  Getting requirements to build wheel ... \u001b[?25l\u001b[?25hdone\n"
          ]
        }
      ],
      "source": [
        "!pip install qiskit==0.43.0\n",
        "!pip install qiskit-aer==0.12.0\n",
        "!pip install networkx\n",
        "!pip install matplotlib"
      ]
    },
    {
      "cell_type": "code",
      "source": [
        "import numpy as np\n",
        "import networkx as nx\n",
        "import random\n",
        "import matplotlib.pyplot as plt\n",
        "from collections import defaultdict\n",
        "from operator import itemgetter\n",
        "from scipy.optimize import minimize\n",
        "from qiskit import QuantumCircuit, QuantumRegister, ClassicalRegister, execute, Aer"
      ],
      "metadata": {
        "id": "OxjnCgWOVGUY"
      },
      "execution_count": null,
      "outputs": []
    },
    {
      "cell_type": "code",
      "source": [
        "import random\n",
        "\n",
        "# Initialize an empty list to hold the coordinate pairs\n",
        "set_of_coordinates = []\n",
        "\n",
        "# Loop 1000 times to generate 1000 random coordinate pairs\n",
        "for i in range(1000):\n",
        "    # Generate a random x-coordinate (between 0 and 50)\n",
        "    x = random.randint(0, 50)\n",
        "    # Generate a random y-coordinate (between 0 and 50)\n",
        "    y = random.randint(0, 50)\n",
        "    # Append the coordinate pair (x, y) to the list\n",
        "    set_of_coordinates.append((x, y))\n",
        "\n",
        "# Print the list of coordinate pairs\n",
        "print(set_of_coordinates)"
      ],
      "metadata": {
        "id": "ZDsyCfHUeAGD"
      },
      "execution_count": null,
      "outputs": []
    },
    {
      "cell_type": "code",
      "source": [
        "G.add_edges_from(set_of_coordinates)\n",
        "nx.draw(G, pos=nx.bipartite_layout(G, [0,1,2]))"
      ],
      "metadata": {
        "id": "-NeEWyNgVOQD"
      },
      "execution_count": null,
      "outputs": []
    },
    {
      "cell_type": "code",
      "source": [
        "def append_zz_term(qc, q1, q2, gamma):\n",
        "    qc.cx(q1,q2)\n",
        "    qc.rz(2*gamma, q2)\n",
        "    qc.cx(q1,q2)\n",
        "\n",
        "def append_cost_operator_circuit(qc, G, gamma):\n",
        "    for i, j in G.edges():\n",
        "        append_zz_term(qc, i, j, gamma)"
      ],
      "metadata": {
        "id": "xDRAeAWbVPCk"
      },
      "execution_count": null,
      "outputs": []
    },
    {
      "cell_type": "code",
      "source": [
        "N = G.number_of_nodes()\n",
        "qc = QuantumCircuit(N)\n",
        "append_cost_operator_circuit(qc, G, np.pi / 3)\n",
        "qc.draw()"
      ],
      "metadata": {
        "id": "qv_W-wm6VSiZ"
      },
      "execution_count": null,
      "outputs": []
    },
    {
      "cell_type": "code",
      "source": [
        "def append_x_term(qc, q1, beta):\n",
        "    qc.rx(2*beta, q1)\n",
        "\n",
        "def append_mixer_operator_circuit(qc, G, beta):\n",
        "    for n in G.nodes():\n",
        "        append_x_term(qc, n, beta)\n",
        "    return qc"
      ],
      "metadata": {
        "id": "MMS5jqJ7VZha"
      },
      "execution_count": null,
      "outputs": []
    },
    {
      "cell_type": "code",
      "source": [
        "N = G.number_of_nodes()\n",
        "qc = QuantumCircuit(N)\n",
        "append_mixer_operator_circuit(qc, G, np.pi/3)\n",
        "qc.draw()"
      ],
      "metadata": {
        "id": "FsNyN0aRVb30"
      },
      "execution_count": null,
      "outputs": []
    },
    {
      "cell_type": "code",
      "source": [
        "def get_qaoa_circuit(G, beta, gamma):\n",
        "    assert(len(beta) == len(gamma))\n",
        "    p = len(beta) # infering number of QAOA steps from the parameters passed\n",
        "    N = G.number_of_nodes()\n",
        "    qc = QuantumCircuit(N,N)\n",
        "    # first, apply a layer of Hadamards\n",
        "    qc.h(range(N))\n",
        "    # second, apply p alternating operators\n",
        "    for i in range(p):\n",
        "        append_cost_operator_circuit(qc, G, beta[i])\n",
        "        append_mixer_operator_circuit(qc, G, gamma[i])\n",
        "    # finally, do not forget to measure the result!\n",
        "    qc.barrier(range(N))\n",
        "    qc.measure(range(N), range(N))\n",
        "    return qc"
      ],
      "metadata": {
        "id": "FSFlS5pvVgtT"
      },
      "execution_count": null,
      "outputs": []
    },
    {
      "cell_type": "code",
      "source": [
        "qc = get_qaoa_circuit(G,[np.pi/3], [np.pi/2])\n",
        "qc.draw()"
      ],
      "metadata": {
        "id": "GAc9VezYVi5D"
      },
      "execution_count": null,
      "outputs": []
    },
    {
      "cell_type": "code",
      "source": [
        "def invert_counts(counts):\n",
        "    return {k[::-1]:v for k, v in counts.items()}"
      ],
      "metadata": {
        "id": "WzYcYwF_VjS9"
      },
      "execution_count": null,
      "outputs": []
    },
    {
      "cell_type": "code",
      "source": [
        "backend = Aer.get_backend('qasm_simulator')\n",
        "job = execute(qc, backend)\n",
        "result = job.result()\n",
        "print(invert_counts(result.get_counts()))"
      ],
      "metadata": {
        "id": "sBtTNex4Vo_q"
      },
      "execution_count": null,
      "outputs": []
    },
    {
      "cell_type": "code",
      "source": [
        "import matplotlib.pyplot as plt\n",
        "\n",
        "def plot_bar_graph(data_dict, title=\"Bar Graph\", xlabel=\"Keys\", ylabel=\"Values\"):\n",
        "    keys = list(data_dict.keys())\n",
        "    values = list(data_dict.values())\n",
        "\n",
        "    plt.figure(figsize=(10, 6))  # Set the figure size (width, height) in inches\n",
        "\n",
        "    plt.bar(keys, values, color='skyblue')  # Plotting the bar graph\n",
        "\n",
        "    plt.title(title)  # Set the title of the graph\n",
        "    plt.xlabel(xlabel)  # Set the label for x-axis\n",
        "    plt.ylabel(ylabel)  # Set the label for y-axis\n",
        "\n",
        "    plt.xticks(rotation=45, ha='right')  # Rotate x-axis labels for better readability\n",
        "    plt.tight_layout()  # Adjust layout to prevent clipping of labels\n",
        "\n",
        "    plt.show()  # Display the plot\n",
        "\n",
        "# Example usage:\n",
        "data = invert_counts(result.get_counts())\n",
        "\n",
        "plot_bar_graph(data, title=\"Optimisation\", xlabel=\"Paths\", ylabel=\"Probability\")\n"
      ],
      "metadata": {
        "id": "dx3MjQ63ssnl"
      },
      "execution_count": null,
      "outputs": []
    },
    {
      "cell_type": "markdown",
      "source": [
        "**Classical Implementation**"
      ],
      "metadata": {
        "id": "oz4v7L6SVV2Q"
      }
    },
    {
      "cell_type": "code",
      "source": [
        "def path_to_coordinates(path):\n",
        "    # Define starting point\n",
        "    x, y = 0, 0\n",
        "    coordinates = [(x, y)]  # Add starting point to coordinates list\n",
        "\n",
        "    # Interpret the path\n",
        "    for step in path:\n",
        "        if step == '0':\n",
        "            x += 1  # Move along x-axis\n",
        "        elif step == '1':\n",
        "            y += 1  # Move along y-axis\n",
        "        coordinates.append((x, y))  # Add current coordinates to the list\n",
        "\n",
        "    return coordinates\n",
        "\n",
        "# Example path\n",
        "path = \"00000\"\n",
        "\n",
        "# Convert path to coordinates\n",
        "coordinates = path_to_coordinates(path)\n",
        "\n",
        "# Print the coordinates of each node\n",
        "for i, coord in enumerate(coordinates):\n",
        "    print(f\"Node {i+1}: {coord}\")"
      ],
      "metadata": {
        "id": "QPBOI4-l6api"
      },
      "execution_count": null,
      "outputs": []
    },
    {
      "cell_type": "code",
      "source": [
        "\n",
        "import matplotlib.pyplot as plt\n",
        "\n",
        "# Get user input for number of nodes\n",
        "num_nodes = int(input(\"Enter the number of nodes in your graph: \"))\n",
        "\n",
        "# Initialize empty lists for nodes and edges\n",
        "nodes = []\n",
        "edges = []\n",
        "\n",
        "# Get user input for node coordinates (accepting floats)\n",
        "for i in range(num_nodes):\n",
        "    print(f\"Enter coordinates for node {i+1} (x, y): \")\n",
        "    x, y = map(float, input().split(\",\"))  # Split by comma (\",\")\n",
        "\n",
        "    nodes.append((x, y))  # Add coordinates as a tuple\n",
        "\n",
        "# Get user input for edges (optional)\n",
        "has_edges = input(\"Do you want to define edges between nodes? (y/n): \")\n",
        "if has_edges.lower() == 'y':\n",
        "    while True:\n",
        "        print(\"Enter two node coordinates (separated by space) to connect with an edge (or 'q' to quit): \")\n",
        "        edge_input = input()\n",
        "        if edge_input.lower() == 'q':\n",
        "            break\n",
        "        try:\n",
        "            # Convert input coordinates to floats (assuming format \"x y\")\n",
        "            start_x, start_y, end_x, end_y = map(float, edge_input.split())\n",
        "\n",
        "            # Find indices of nodes based on coordinates (assuming unique coordinates)\n",
        "            start_index = -1\n",
        "            end_index = -1\n",
        "            for i, node in enumerate(nodes):\n",
        "                if node[0] == start_x and node[1] == start_y:\n",
        "                    start_index = i\n",
        "                if node[0] == end_x and node[1] == end_y:\n",
        "                    end_index = i\n",
        "\n",
        "            if start_index != -1 and end_index != -1:\n",
        "                edges.append((start_index, end_index))  # Add edge as a tuple of node indices\n",
        "            else:\n",
        "                print(\"Invalid node coordinates. Please enter coordinates that match existing nodes.\")\n",
        "        except ValueError:\n",
        "            print(\"Invalid input. Please enter four space-separated floating-point values (x1 y1 x2 y2).\")\n",
        "\n",
        "# Create the plot\n",
        "fig, ax = plt.subplots()\n",
        "\n",
        "# Draw edges (if any)\n",
        "for start, end in edges:\n",
        "    x_values = [nodes[start][0], nodes[end][0]]\n",
        "    y_values = [nodes[start][1], nodes[end][1]]\n",
        "    ax.plot(x_values, y_values, 'b-o', alpha=0.7)  # Blue line with circle markers\n",
        "\n",
        "    # *Show path labels on edges:*\n",
        "    for i, (x, y) in enumerate(zip(x_values, y_values)):\n",
        "        if i == 0:  # Label start node\n",
        "            ax.text(x, y + 0.1, f\"Node {start+1}\", ha='center', va='center', fontsize=12)\n",
        "        else:  # Label end node\n",
        "            ax.text(x, y + 0.1, f\"Node {end+1}\", ha='center', va='center', fontsize=12)\n",
        "\n",
        "\n",
        "\n",
        "\n",
        "# Draw rectangles for nodes (modified for grey rectangles of 0.4*0.4)\n",
        "for node in nodes:\n",
        "    ax.add_patch(plt.Rectangle(xy=node, width=0.4, height=0.4, color='grey'))\n",
        "      # Changed color and dimensions\n",
        "for i, node in enumerate(nodes):\n",
        "    ax.text(node[0], node[1] + 0.1, f\"Node {i+1}\", ha='center', va='center', fontsize=12)\n",
        "\n",
        "# Set limits slightly bigger than node coordinates\n",
        "plt.xlim([min(coord[0] for coord in nodes) - 0.5, max(coord[0] for coord in nodes) + 0.5])\n",
        "plt.ylim([min(coord[1] for coord in nodes) - 0.5, max(coord[1] for coord in nodes) + 0.5])\n",
        "\n",
        "# Set axes\n",
        "plt.xlabel('X')\n",
        "plt.ylabel('Y')\n",
        "\n",
        "# Set title\n",
        "plt.title('User-defined Graph with Paths')\n",
        "\n",
        "plt.show()\n",
        "\n",
        "\n",
        "\n"
      ],
      "metadata": {
        "id": "M9H9ovSkE8WQ"
      },
      "execution_count": null,
      "outputs": []
    },
    {
      "cell_type": "code",
      "source": [],
      "metadata": {
        "id": "XKQ-oFINGhKT"
      },
      "execution_count": null,
      "outputs": []
    }
  ]
}